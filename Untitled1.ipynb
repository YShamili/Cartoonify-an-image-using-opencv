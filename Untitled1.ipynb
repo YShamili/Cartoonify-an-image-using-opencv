{
 "cells": [
  {
   "cell_type": "code",
   "execution_count": null,
   "id": "99edd9a0-db85-4edc-b78f-71a3e68a01bb",
   "metadata": {},
   "outputs": [],
   "source": [
    "import cv2 as cv\n",
    "import numpy as np #for array of pixels\n",
    "import matplotlib.pyplot as plt #for using the image display, axis control.."
   ]
  },
  {
   "cell_type": "code",
   "execution_count": null,
   "id": "664d5c1c-23de-4042-98ff-25ba7e586f26",
   "metadata": {},
   "outputs": [],
   "source": [
    "img = cv.imread('parrot.png')\n",
    "if img is None:\n",
    "    print(\"Error or the image is not found\")\n",
    "else:\n",
    "    img = cv.resize(img, (500,600))\n",
    "    img_color = cv.cvtColor(img, cv.COLOR_BGR2RGB) #opencv loads images in BGR format and matplotlib expects images in RGB format\n",
    "    #to avoid color mistakes we are converting\n",
    "    plt.imshow(img_color)\n",
    "    plt.axis('off')\n",
    "    plt.title(\"Original\")\n",
    "    plt.show()"
   ]
  },
  {
   "cell_type": "code",
   "execution_count": null,
   "id": "991c9e70-1f51-499a-aca9-34ff9a76b998",
   "metadata": {},
   "outputs": [],
   "source": [
    "gray_colour = cv.cvtColor(img, cv.COLOR_BGR2GRAY) #converting the colour format from the bgr to gray\n",
    "gray_img = cv.medianBlur(gray_colour, 5) #applying the median blurness and the size is 5*5\n",
    "\n",
    "plt.imshow(gray_img, cmap='gray') #telling the matplotlib to apply the gray color to the image\n",
    "plt.axis('off')\n",
    "plt.title(\"Gray and median blur image\")\n",
    "plt.show()"
   ]
  },
  {
   "cell_type": "code",
   "execution_count": null,
   "id": "c298764a-1ac3-450b-aef3-9dea82dc828e",
   "metadata": {},
   "outputs": [],
   "source": [
    "edge_img = cv.adaptiveThreshold(gray_img, 255, cv.ADAPTIVE_THRESH_MEAN_C, cv.THRESH_BINARY, 9, 9) #to convert the grey image to black and white based on the small areas\n",
    "#255 is the max value for white\n",
    "plt.imshow(edge_img, cmap=\"gray\")\n",
    "plt.axis('off')\n",
    "plt.title(\"Edges\")\n",
    "plt.show()"
   ]
  },
  {
   "cell_type": "code",
   "execution_count": null,
   "id": "e3d8fcd6-5c0e-49da-807b-79cacb0b3704",
   "metadata": {},
   "outputs": [],
   "source": [
    "color_image = cv.bilateralFilter(img, d=9, sigmaColor=250, sigmaSpace=250)\n",
    "\n",
    "plt.imshow(cv.cvtColor(color_image, cv.COLOR_BGR2RGB))\n",
    "plt.axis('off')\n",
    "plt.title(\"bilateral\")\n",
    "plt.show()"
   ]
  },
  {
   "cell_type": "code",
   "execution_count": null,
   "id": "41789433-a0b3-443f-bea5-066cbeb3d792",
   "metadata": {},
   "outputs": [],
   "source": [
    "cartoon_img = cv.bitwise_and(color_image, color_image, mask=edge_img)\n",
    "plt.imshow(cv.cvtColor(cartoon_img, cv.COLOR_BGR2RGB))\n",
    "plt.axis('off')\n",
    "plt.title(\"cartoon\")\n",
    "plt.show()"
   ]
  },
  {
   "cell_type": "code",
   "execution_count": null,
   "id": "d0f5640b-959b-4cbd-9ae9-36c401f67ade",
   "metadata": {},
   "outputs": [],
   "source": []
  }
 ],
 "metadata": {
  "kernelspec": {
   "display_name": "Python [conda env:base] *",
   "language": "python",
   "name": "conda-base-py"
  },
  "language_info": {
   "codemirror_mode": {
    "name": "ipython",
    "version": 3
   },
   "file_extension": ".py",
   "mimetype": "text/x-python",
   "name": "python",
   "nbconvert_exporter": "python",
   "pygments_lexer": "ipython3",
   "version": "3.12.7"
  }
 },
 "nbformat": 4,
 "nbformat_minor": 5
}
